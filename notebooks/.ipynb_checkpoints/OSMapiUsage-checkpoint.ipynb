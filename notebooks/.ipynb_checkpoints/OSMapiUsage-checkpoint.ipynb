{
 "cells": [
  {
   "cell_type": "markdown",
   "metadata": {},
   "source": [
    "## [Overpass API](https://github.com/mvexel/overpass-api-python-wrapper)"
   ]
  },
  {
   "cell_type": "code",
   "execution_count": 2,
   "metadata": {
    "collapsed": false
   },
   "outputs": [
    {
     "name": "stdout",
     "output_type": "stream",
     "text": [
      "Collecting overpass\n",
      "  Downloading overpass-0.5.6.tar.gz\n",
      "Requirement already satisfied: requests>=2.3.0 in d:\\programme\\lib\\site-packages (from overpass)\n",
      "Collecting geojson>=1.0.9 (from overpass)\n",
      "  Downloading geojson-1.3.4-py2.py3-none-any.whl\n",
      "Installing collected packages: geojson, overpass\n",
      "  Running setup.py install for overpass: started\n",
      "    Running setup.py install for overpass: finished with status 'done'\n",
      "Successfully installed geojson-1.3.4 overpass-0.5.6\n"
     ]
    }
   ],
   "source": [
    "# !pip install overpass"
   ]
  },
  {
   "cell_type": "code",
   "execution_count": 1,
   "metadata": {
    "collapsed": false
   },
   "outputs": [
    {
     "ename": "ImportError",
     "evalue": "No module named overpass",
     "output_type": "error",
     "traceback": [
      "\u001b[1;31m---------------------------------------------------------------------------\u001b[0m",
      "\u001b[1;31mImportError\u001b[0m                               Traceback (most recent call last)",
      "\u001b[1;32m<ipython-input-1-156de9f629a0>\u001b[0m in \u001b[0;36m<module>\u001b[1;34m()\u001b[0m\n\u001b[1;32m----> 1\u001b[1;33m \u001b[1;32mimport\u001b[0m \u001b[0moverpass\u001b[0m\u001b[1;33m\u001b[0m\u001b[0m\n\u001b[0m\u001b[0;32m      2\u001b[0m \u001b[0mapi\u001b[0m \u001b[1;33m=\u001b[0m \u001b[0moverpass\u001b[0m\u001b[1;33m.\u001b[0m\u001b[0mAPI\u001b[0m\u001b[1;33m(\u001b[0m\u001b[1;33m)\u001b[0m\u001b[1;33m\u001b[0m\u001b[0m\n",
      "\u001b[1;31mImportError\u001b[0m: No module named overpass"
     ]
    }
   ],
   "source": [
    "import overpass\n",
    "api = overpass.API()"
   ]
  },
  {
   "cell_type": "markdown",
   "metadata": {},
   "source": [
    "## A first query"
   ]
  },
  {
   "cell_type": "code",
   "execution_count": null,
   "metadata": {
    "collapsed": true
   },
   "outputs": [],
   "source": [
    "response = api.Get('node[\"name\"=\"Sippersfeld\"]')"
   ]
  },
  {
   "cell_type": "code",
   "execution_count": 6,
   "metadata": {
    "collapsed": false
   },
   "outputs": [
    {
     "data": {
      "text/plain": [
       "{\"features\": [{\"geometry\": {\"coordinates\": [7.9356432, 49.5528371], \"type\": \"Point\"}, \"id\": 240031237, \"properties\": {\"is_in\": \"Donnersbergkreis,Rheinhessen-Pfalz,Rheinland-Pfalz,Bundesrepublik Deutschland,Europe\", \"name\": \"Sippersfeld\", \"openGeoDB:auto_update\": \"population,place,name,is_in\", \"openGeoDB:combination_of_public_administration\": \"Verbandsgemeinde Winnweiler\", \"openGeoDB:community_identification_number\": \"07333071\", \"openGeoDB:is_in\": \"Donnersbergkreis,Rheinhessen-Pfalz,Rheinland-Pfalz,Bundesrepublik Deutschland,Europe\", \"openGeoDB:is_in_loc_id\": \"213\", \"openGeoDB:layer\": \"6\", \"openGeoDB:license_plate_code\": \"KIB\", \"openGeoDB:loc_id\": \"24311\", \"openGeoDB:location\": \"political_structure\", \"openGeoDB:name\": \"Sippersfeld\", \"openGeoDB:population\": \"1181\", \"openGeoDB:postal_codes\": \"67729\", \"openGeoDB:sort_name\": \"SIPPERSFELD\", \"openGeoDB:telephone_area_code\": \"06357\", \"openGeoDB:type\": \"Gemeinde\", \"openGeoDB:version\": \"0.2.6.11 / 2007-12-04 / http://fa-technik.adfc.de/code/opengeodb/dump/\", \"place\": \"village\", \"population\": \"1181\"}, \"type\": \"Feature\"}], \"type\": \"FeatureCollection\"}"
      ]
     },
     "execution_count": 6,
     "metadata": {},
     "output_type": "execute_result"
    }
   ],
   "source": [
    "response"
   ]
  },
  {
   "cell_type": "markdown",
   "metadata": {},
   "source": [
    "## What is the result?"
   ]
  },
  {
   "cell_type": "code",
   "execution_count": 11,
   "metadata": {
    "collapsed": false
   },
   "outputs": [
    {
     "data": {
      "text/plain": [
       "geojson.feature.FeatureCollection"
      ]
     },
     "execution_count": 11,
     "metadata": {},
     "output_type": "execute_result"
    }
   ],
   "source": [
    "type(response)"
   ]
  },
  {
   "cell_type": "code",
   "execution_count": 14,
   "metadata": {
    "collapsed": false
   },
   "outputs": [
    {
     "data": {
      "text/plain": [
       "str"
      ]
     },
     "execution_count": 14,
     "metadata": {},
     "output_type": "execute_result"
    }
   ],
   "source": [
    "response2 = api.Get('node[\"name\"=\"Börrstadt\"]', responseformat=\"xml\")\n",
    "type(response2)"
   ]
  },
  {
   "cell_type": "code",
   "execution_count": 15,
   "metadata": {
    "collapsed": false
   },
   "outputs": [
    {
     "data": {
      "text/plain": [
       "'<?xml version=\"1.0\" encoding=\"UTF-8\"?>\\n<osm version=\"0.6\" generator=\"Overpass API\">\\n<note>The data included in this document is from www.openstreetmap.org. The data is made available under ODbL.</note>\\n<meta osm_base=\"2017-04-03T12:22:03Z\"/>\\n\\n  <node id=\"240114037\" lat=\"49.5782124\" lon=\"7.9423476\">\\n    <tag k=\"created_by\" v=\"Potlatch 0.9c\"/>\\n    <tag k=\"is_in\" v=\"Donnersbergkreis,Rheinhessen-Pfalz,Rheinland-Pfalz,Bundesrepublik Deutschland,Europe\"/>\\n    <tag k=\"name\" v=\"Börrstadt\"/>\\n    <tag k=\"openGeoDB:auto_update\" v=\"population,place,name,is_in\"/>\\n    <tag k=\"openGeoDB:combination_of_public_administration\" v=\"Verbandsgemeinde Winnweiler\"/>\\n    <tag k=\"openGeoDB:community_identification_number\" v=\"07333009\"/>\\n    <tag k=\"openGeoDB:is_in\" v=\"Donnersbergkreis,Rheinhessen-Pfalz,Rheinland-Pfalz,Bundesrepublik Deutschland,Europe\"/>\\n    <tag k=\"openGeoDB:is_in_loc_id\" v=\"213\"/>\\n    <tag k=\"openGeoDB:layer\" v=\"6\"/>\\n    <tag k=\"openGeoDB:license_plate_code\" v=\"KIB\"/>\\n    <tag k=\"openGeoDB:loc_id\" v=\"14701\"/>\\n    <tag k=\"openGeoDB:location\" v=\"political_structure\"/>\\n    <tag k=\"openGeoDB:name\" v=\"Börrstadt\"/>\\n    <tag k=\"openGeoDB:population\" v=\"963\"/>\\n    <tag k=\"openGeoDB:postal_codes\" v=\"67725\"/>\\n    <tag k=\"openGeoDB:sort_name\" v=\"BOERRSTADT\"/>\\n    <tag k=\"openGeoDB:telephone_area_code\" v=\"06357\"/>\\n    <tag k=\"openGeoDB:type\" v=\"Gemeinde\"/>\\n    <tag k=\"openGeoDB:version\" v=\"0.2.6.11 / 2007-12-04 / http://fa-technik.adfc.de/code/opengeodb/dump/\"/>\\n    <tag k=\"place\" v=\"village\"/>\\n    <tag k=\"population\" v=\"963\"/>\\n  </node>\\n\\n</osm>\\n'"
      ]
     },
     "execution_count": 15,
     "metadata": {},
     "output_type": "execute_result"
    }
   ],
   "source": [
    "response2"
   ]
  },
  {
   "cell_type": "code",
   "execution_count": 3,
   "metadata": {
    "collapsed": false
   },
   "outputs": [],
   "source": [
    "map_query = overpass.MapQuery(50.746,7.154,50.748,7.157)"
   ]
  },
  {
   "cell_type": "markdown",
   "metadata": {},
   "source": [
    "## [Projections](https://www.slideshare.net/mishok13/making-use-of-openstreetmap-data-with-python)"
   ]
  },
  {
   "cell_type": "code",
   "execution_count": 5,
   "metadata": {
    "collapsed": false
   },
   "outputs": [
    {
     "name": "stdout",
     "output_type": "stream",
     "text": [
      "Collecting pyproj\n",
      "  Downloading pyproj-1.9.5.1.tar.gz (4.4MB)\n",
      "\u001b[K    100% |████████████████████████████████| 4.4MB 293kB/s \n",
      "\u001b[?25hBuilding wheels for collected packages: pyproj\n",
      "  Running setup.py bdist_wheel for pyproj ... \u001b[?25l-\b \b\\\b \b|\b \b/\b \b-\b \b\\\b \b|\b \b/\b \b-\b \b\\\b \b|\b \b/\b \b-\b \b\\\b \b|\b \b/\b \b-\b \b\\\b \b|\b \b/\b \b-\b \b\\\b \b|\b \b/\b \b-\b \b\\\b \b|\b \b/\b \b-\b \b\\\b \b|\b \b/\b \b-\b \b\\\b \b|\b \b/\b \b-\b \b\\\b \b|\b \b/\b \b-\b \b\\\b \b|\b \b/\b \b-\b \b\\\b \b|\b \b/\b \b-\b \b\\\b \b|\b \b/\b \b-\b \b\\\b \b|\b \b/\b \b-\b \b\\\b \b|\b \b/\b \b-\b \b\\\b \b|\b \b/\b \b-\b \b\\\b \b|\b \b/\b \b-\b \b\\\b \b|\b \b/\b \b-\b \b\\\b \b|\b \b/\b \b-\b \b\\\b \b|\b \b/\b \b-\b \bdone\n",
      "\u001b[?25h  Stored in directory: /home/kolb/.cache/pip/wheels/85/dd/2f/d1ed07a507c7adb330cda0afcc96cae8e9abb4d85bbb788bdf\n",
      "Successfully built pyproj\n",
      "Installing collected packages: pyproj\n",
      "Successfully installed pyproj-1.9.5.1\n"
     ]
    }
   ],
   "source": [
    "#!pip install pyproj"
   ]
  },
  {
   "cell_type": "code",
   "execution_count": 6,
   "metadata": {
    "collapsed": false
   },
   "outputs": [],
   "source": [
    "import pyproj"
   ]
  },
  {
   "cell_type": "markdown",
   "metadata": {},
   "source": [
    "## [OSMapi](http://wiki.openstreetmap.org/wiki/Osmapi)"
   ]
  },
  {
   "cell_type": "code",
   "execution_count": 5,
   "metadata": {
    "collapsed": false
   },
   "outputs": [
    {
     "name": "stdout",
     "output_type": "stream",
     "text": [
      "Collecting osmapi\n",
      "  Downloading osmapi-0.8.1.tar.gz\n",
      "Requirement already satisfied: requests in d:\\programme\\lib\\site-packages (from osmapi)\n",
      "Installing collected packages: osmapi\n",
      "  Running setup.py install for osmapi: started\n",
      "    Running setup.py install for osmapi: finished with status 'done'\n",
      "Successfully installed osmapi-0.8.1\n"
     ]
    }
   ],
   "source": [
    "!pip install osmapi"
   ]
  },
  {
   "cell_type": "code",
   "execution_count": 4,
   "metadata": {
    "collapsed": false
   },
   "outputs": [
    {
     "ename": "ImportError",
     "evalue": "No module named osmapi",
     "output_type": "error",
     "traceback": [
      "\u001b[1;31m---------------------------------------------------------------------------\u001b[0m",
      "\u001b[1;31mImportError\u001b[0m                               Traceback (most recent call last)",
      "\u001b[1;32m<ipython-input-4-feb0327355c6>\u001b[0m in \u001b[0;36m<module>\u001b[1;34m()\u001b[0m\n\u001b[1;32m----> 1\u001b[1;33m \u001b[1;32mfrom\u001b[0m \u001b[0mosmapi\u001b[0m \u001b[1;32mimport\u001b[0m \u001b[0mOsmApi\u001b[0m\u001b[1;33m\u001b[0m\u001b[0m\n\u001b[0m",
      "\u001b[1;31mImportError\u001b[0m: No module named osmapi"
     ]
    }
   ],
   "source": [
    "from osmapi import OsmApi"
   ]
  }
 ],
 "metadata": {
  "kernelspec": {
   "display_name": "Python 2",
   "language": "python",
   "name": "python2"
  },
  "language_info": {
   "codemirror_mode": {
    "name": "ipython",
    "version": 2
   },
   "file_extension": ".py",
   "mimetype": "text/x-python",
   "name": "python",
   "nbconvert_exporter": "python",
   "pygments_lexer": "ipython2",
   "version": "2.7.13"
  }
 },
 "nbformat": 4,
 "nbformat_minor": 0
}
