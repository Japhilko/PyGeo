{
 "cells": [
  {
   "cell_type": "markdown",
   "metadata": {},
   "source": [
    "## [Overpass API](https://github.com/mvexel/overpass-api-python-wrapper)"
   ]
  },
  {
   "cell_type": "code",
   "execution_count": 3,
   "metadata": {
    "collapsed": false
   },
   "outputs": [],
   "source": [
    "#!pip install overpass"
   ]
  },
  {
   "cell_type": "code",
   "execution_count": 5,
   "metadata": {
    "collapsed": true
   },
   "outputs": [],
   "source": [
    "import overpass\n",
    "api = overpass.API()\n",
    "response = api.Get('node[\"name\"=\"Sippersfeld\"]')"
   ]
  },
  {
   "cell_type": "code",
   "execution_count": 6,
   "metadata": {
    "collapsed": false
   },
   "outputs": [
    {
     "data": {
      "text/plain": [
       "{\"features\": [{\"geometry\": {\"coordinates\": [7.9356432, 49.5528371], \"type\": \"Point\"}, \"id\": 240031237, \"properties\": {\"is_in\": \"Donnersbergkreis,Rheinhessen-Pfalz,Rheinland-Pfalz,Bundesrepublik Deutschland,Europe\", \"name\": \"Sippersfeld\", \"openGeoDB:auto_update\": \"population,place,name,is_in\", \"openGeoDB:combination_of_public_administration\": \"Verbandsgemeinde Winnweiler\", \"openGeoDB:community_identification_number\": \"07333071\", \"openGeoDB:is_in\": \"Donnersbergkreis,Rheinhessen-Pfalz,Rheinland-Pfalz,Bundesrepublik Deutschland,Europe\", \"openGeoDB:is_in_loc_id\": \"213\", \"openGeoDB:layer\": \"6\", \"openGeoDB:license_plate_code\": \"KIB\", \"openGeoDB:loc_id\": \"24311\", \"openGeoDB:location\": \"political_structure\", \"openGeoDB:name\": \"Sippersfeld\", \"openGeoDB:population\": \"1181\", \"openGeoDB:postal_codes\": \"67729\", \"openGeoDB:sort_name\": \"SIPPERSFELD\", \"openGeoDB:telephone_area_code\": \"06357\", \"openGeoDB:type\": \"Gemeinde\", \"openGeoDB:version\": \"0.2.6.11 / 2007-12-04 / http://fa-technik.adfc.de/code/opengeodb/dump/\", \"place\": \"village\", \"population\": \"1181\"}, \"type\": \"Feature\"}], \"type\": \"FeatureCollection\"}"
      ]
     },
     "execution_count": 6,
     "metadata": {},
     "output_type": "execute_result"
    }
   ],
   "source": [
    "response"
   ]
  },
  {
   "cell_type": "code",
   "execution_count": 11,
   "metadata": {
    "collapsed": false
   },
   "outputs": [
    {
     "data": {
      "text/plain": [
       "geojson.feature.FeatureCollection"
      ]
     },
     "execution_count": 11,
     "metadata": {},
     "output_type": "execute_result"
    }
   ],
   "source": [
    "type(response)"
   ]
  },
  {
   "cell_type": "code",
   "execution_count": 14,
   "metadata": {
    "collapsed": false
   },
   "outputs": [
    {
     "data": {
      "text/plain": [
       "str"
      ]
     },
     "execution_count": 14,
     "metadata": {},
     "output_type": "execute_result"
    }
   ],
   "source": [
    "response2 = api.Get('node[\"name\"=\"Börrstadt\"]', responseformat=\"xml\")\n",
    "type(response2)"
   ]
  },
  {
   "cell_type": "code",
   "execution_count": 15,
   "metadata": {
    "collapsed": false
   },
   "outputs": [
    {
     "data": {
      "text/plain": [
       "'<?xml version=\"1.0\" encoding=\"UTF-8\"?>\\n<osm version=\"0.6\" generator=\"Overpass API\">\\n<note>The data included in this document is from www.openstreetmap.org. The data is made available under ODbL.</note>\\n<meta osm_base=\"2017-04-03T12:22:03Z\"/>\\n\\n  <node id=\"240114037\" lat=\"49.5782124\" lon=\"7.9423476\">\\n    <tag k=\"created_by\" v=\"Potlatch 0.9c\"/>\\n    <tag k=\"is_in\" v=\"Donnersbergkreis,Rheinhessen-Pfalz,Rheinland-Pfalz,Bundesrepublik Deutschland,Europe\"/>\\n    <tag k=\"name\" v=\"Börrstadt\"/>\\n    <tag k=\"openGeoDB:auto_update\" v=\"population,place,name,is_in\"/>\\n    <tag k=\"openGeoDB:combination_of_public_administration\" v=\"Verbandsgemeinde Winnweiler\"/>\\n    <tag k=\"openGeoDB:community_identification_number\" v=\"07333009\"/>\\n    <tag k=\"openGeoDB:is_in\" v=\"Donnersbergkreis,Rheinhessen-Pfalz,Rheinland-Pfalz,Bundesrepublik Deutschland,Europe\"/>\\n    <tag k=\"openGeoDB:is_in_loc_id\" v=\"213\"/>\\n    <tag k=\"openGeoDB:layer\" v=\"6\"/>\\n    <tag k=\"openGeoDB:license_plate_code\" v=\"KIB\"/>\\n    <tag k=\"openGeoDB:loc_id\" v=\"14701\"/>\\n    <tag k=\"openGeoDB:location\" v=\"political_structure\"/>\\n    <tag k=\"openGeoDB:name\" v=\"Börrstadt\"/>\\n    <tag k=\"openGeoDB:population\" v=\"963\"/>\\n    <tag k=\"openGeoDB:postal_codes\" v=\"67725\"/>\\n    <tag k=\"openGeoDB:sort_name\" v=\"BOERRSTADT\"/>\\n    <tag k=\"openGeoDB:telephone_area_code\" v=\"06357\"/>\\n    <tag k=\"openGeoDB:type\" v=\"Gemeinde\"/>\\n    <tag k=\"openGeoDB:version\" v=\"0.2.6.11 / 2007-12-04 / http://fa-technik.adfc.de/code/opengeodb/dump/\"/>\\n    <tag k=\"place\" v=\"village\"/>\\n    <tag k=\"population\" v=\"963\"/>\\n  </node>\\n\\n</osm>\\n'"
      ]
     },
     "execution_count": 15,
     "metadata": {},
     "output_type": "execute_result"
    }
   ],
   "source": [
    "response2"
   ]
  },
  {
   "cell_type": "code",
   "execution_count": null,
   "metadata": {
    "collapsed": true
   },
   "outputs": [],
   "source": [
    "map_query = overpass.MapQuery(50.746,7.154,50.748,7.157)\n",
    "response = api.Get(map_query)"
   ]
  }
 ],
 "metadata": {
  "kernelspec": {
   "display_name": "Python 3",
   "language": "python",
   "name": "python3"
  },
  "language_info": {
   "codemirror_mode": {
    "name": "ipython",
    "version": 3
   },
   "file_extension": ".py",
   "mimetype": "text/x-python",
   "name": "python",
   "nbconvert_exporter": "python",
   "pygments_lexer": "ipython3",
   "version": "3.5.1"
  }
 },
 "nbformat": 4,
 "nbformat_minor": 0
}
